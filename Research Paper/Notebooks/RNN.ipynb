{
 "cells": [
  {
   "cell_type": "code",
   "execution_count": 1,
   "id": "2a8698a0",
   "metadata": {},
   "outputs": [],
   "source": [
    "from sklearn.model_selection import train_test_split\n",
    "import pandas as pd\n",
    "import numpy as np\n",
    "from keras.models import Sequential\n",
    "from keras.layers import LSTM, Dense\n",
    "from sklearn.preprocessing import StandardScaler"
   ]
  },
  {
   "cell_type": "code",
   "execution_count": 3,
   "id": "3641b645",
   "metadata": {},
   "outputs": [],
   "source": [
    "XV = pd.read_csv(\"../Data/X-values.csv\", index_col=[0])\n",
    "X1 = XV.drop([\"bioactivity_class\",\"Name\",\"canonical_smiles\", \"molecule_chembl_id\"],axis=1)\n",
    "yc = pd.read_csv(\"../Data/Y-class.csv\", index_col=[0])\n",
    "y = pd.read_csv(\"../Data/Y-values.csv\", index_col=[0])\n",
    "\n",
    "# Importing the data"
   ]
  },
  {
   "cell_type": "code",
   "execution_count": 4,
   "id": "c423e855",
   "metadata": {},
   "outputs": [
    {
     "name": "stdout",
     "output_type": "stream",
     "text": [
      "         MW      LogP  NumHDonors  NumHAcceptors\n",
      "0 -0.598980 -0.451798        -1.0           -0.4\n",
      "1  0.099774  0.088682        -1.0           -1.0\n"
     ]
    }
   ],
   "source": [
    "rem = X1[[\"MW\",\"LogP\",\"NumHDonors\",\"NumHAcceptors\"]].copy()\n",
    "rem = (rem - rem.min()) / (rem.max() - rem.min()) * 2 - 1\n",
    "X1 = X1.drop([\"MW\",\"LogP\",\"NumHDonors\",\"NumHAcceptors\"], axis=1)\n",
    "print(rem.head(2))"
   ]
  },
  {
   "cell_type": "code",
   "execution_count": 5,
   "id": "066d748d",
   "metadata": {},
   "outputs": [
    {
     "data": {
      "text/html": [
       "<div>\n",
       "<style scoped>\n",
       "    .dataframe tbody tr th:only-of-type {\n",
       "        vertical-align: middle;\n",
       "    }\n",
       "\n",
       "    .dataframe tbody tr th {\n",
       "        vertical-align: top;\n",
       "    }\n",
       "\n",
       "    .dataframe thead th {\n",
       "        text-align: right;\n",
       "    }\n",
       "</style>\n",
       "<table border=\"1\" class=\"dataframe\">\n",
       "  <thead>\n",
       "    <tr style=\"text-align: right;\">\n",
       "      <th></th>\n",
       "      <th>PubchemFP0</th>\n",
       "      <th>PubchemFP1</th>\n",
       "      <th>PubchemFP2</th>\n",
       "      <th>PubchemFP3</th>\n",
       "      <th>PubchemFP4</th>\n",
       "      <th>PubchemFP5</th>\n",
       "      <th>PubchemFP6</th>\n",
       "      <th>PubchemFP7</th>\n",
       "      <th>PubchemFP8</th>\n",
       "      <th>PubchemFP9</th>\n",
       "      <th>...</th>\n",
       "      <th>PubchemFP875</th>\n",
       "      <th>PubchemFP876</th>\n",
       "      <th>PubchemFP877</th>\n",
       "      <th>PubchemFP878</th>\n",
       "      <th>PubchemFP879</th>\n",
       "      <th>PubchemFP880</th>\n",
       "      <th>MW</th>\n",
       "      <th>LogP</th>\n",
       "      <th>NumHDonors</th>\n",
       "      <th>NumHAcceptors</th>\n",
       "    </tr>\n",
       "  </thead>\n",
       "  <tbody>\n",
       "    <tr>\n",
       "      <th>0</th>\n",
       "      <td>1</td>\n",
       "      <td>1</td>\n",
       "      <td>0</td>\n",
       "      <td>0</td>\n",
       "      <td>0</td>\n",
       "      <td>0</td>\n",
       "      <td>0</td>\n",
       "      <td>0</td>\n",
       "      <td>0</td>\n",
       "      <td>1</td>\n",
       "      <td>...</td>\n",
       "      <td>0</td>\n",
       "      <td>0</td>\n",
       "      <td>0</td>\n",
       "      <td>0</td>\n",
       "      <td>0</td>\n",
       "      <td>0</td>\n",
       "      <td>-0.59898</td>\n",
       "      <td>-0.451798</td>\n",
       "      <td>-1.0</td>\n",
       "      <td>-0.4</td>\n",
       "    </tr>\n",
       "  </tbody>\n",
       "</table>\n",
       "<p>1 rows × 885 columns</p>\n",
       "</div>"
      ],
      "text/plain": [
       "   PubchemFP0  PubchemFP1  PubchemFP2  PubchemFP3  PubchemFP4  PubchemFP5  \\\n",
       "0           1           1           0           0           0           0   \n",
       "\n",
       "   PubchemFP6  PubchemFP7  PubchemFP8  PubchemFP9  ...  PubchemFP875  \\\n",
       "0           0           0           0           1  ...             0   \n",
       "\n",
       "   PubchemFP876  PubchemFP877  PubchemFP878  PubchemFP879  PubchemFP880  \\\n",
       "0             0             0             0             0             0   \n",
       "\n",
       "        MW      LogP  NumHDonors  NumHAcceptors  \n",
       "0 -0.59898 -0.451798        -1.0           -0.4  \n",
       "\n",
       "[1 rows x 885 columns]"
      ]
     },
     "execution_count": 5,
     "metadata": {},
     "output_type": "execute_result"
    }
   ],
   "source": [
    "X = pd.concat([X1,rem], axis=1)\n",
    "X.head(1)"
   ]
  },
  {
   "cell_type": "code",
   "execution_count": 7,
   "id": "eaff16ff",
   "metadata": {},
   "outputs": [
    {
     "data": {
      "text/plain": [
       "(133, 1, 885)"
      ]
     },
     "execution_count": 7,
     "metadata": {},
     "output_type": "execute_result"
    }
   ],
   "source": [
    "X = X.values.reshape(-1, 1, 885)\n",
    "X.shape"
   ]
  },
  {
   "cell_type": "code",
   "execution_count": 8,
   "id": "b7a78e3b",
   "metadata": {},
   "outputs": [],
   "source": [
    "# Split the data into training and testing sets\n",
    "X_train, X_test, y_train, y_test = train_test_split(X, y, test_size=0.2, random_state=42)"
   ]
  },
  {
   "cell_type": "code",
   "execution_count": 12,
   "id": "7f4099a9",
   "metadata": {},
   "outputs": [
    {
     "name": "stdout",
     "output_type": "stream",
     "text": [
      "Epoch 1/10\n",
      "11/11 [==============================] - 4s 5ms/step - loss: 7.9525\n",
      "Epoch 2/10\n",
      "11/11 [==============================] - 0s 5ms/step - loss: 3.4161\n",
      "Epoch 3/10\n",
      "11/11 [==============================] - 0s 5ms/step - loss: 2.4173\n",
      "Epoch 4/10\n",
      "11/11 [==============================] - 0s 5ms/step - loss: 1.7724\n",
      "Epoch 5/10\n",
      "11/11 [==============================] - 0s 5ms/step - loss: 1.5234\n",
      "Epoch 6/10\n",
      "11/11 [==============================] - 0s 5ms/step - loss: 1.3644\n",
      "Epoch 7/10\n",
      "11/11 [==============================] - 0s 5ms/step - loss: 1.2936\n",
      "Epoch 8/10\n",
      "11/11 [==============================] - 0s 5ms/step - loss: 1.3103\n",
      "Epoch 9/10\n",
      "11/11 [==============================] - 0s 5ms/step - loss: 1.2132\n",
      "Epoch 10/10\n",
      "11/11 [==============================] - 0s 5ms/step - loss: 1.2087\n"
     ]
    },
    {
     "data": {
      "text/plain": [
       "<keras.callbacks.History at 0x28c1121cb50>"
      ]
     },
     "execution_count": 12,
     "metadata": {},
     "output_type": "execute_result"
    }
   ],
   "source": [
    "# Create a sequential model\n",
    "model = Sequential()\n",
    "\n",
    "# Add LSTM layer to the model\n",
    "model.add(LSTM(units=64, input_shape=(1, 885)))\n",
    "\n",
    "# Add a fully connected layer to the model\n",
    "model.add(Dense(units=1, activation='linear'))\n",
    "\n",
    "# Compile the model\n",
    "model.compile(loss='mean_squared_error', optimizer='adam')\n",
    "\n",
    "# Train the model\n",
    "model.fit(X_train, y_train, epochs=10, batch_size=10)"
   ]
  },
  {
   "cell_type": "code",
   "execution_count": 13,
   "id": "6a9915f3",
   "metadata": {},
   "outputs": [
    {
     "name": "stdout",
     "output_type": "stream",
     "text": [
      "1/1 [==============================] - 1s 598ms/step - loss: 2.0820\n",
      "Mean squared error:  2.082037925720215\n"
     ]
    }
   ],
   "source": [
    "# Evaluate the model\n",
    "mse = model.evaluate(X_test, y_test)\n",
    "print(\"Mean squared error: \", mse)"
   ]
  }
 ],
 "metadata": {
  "kernelspec": {
   "display_name": "Python 3 (ipykernel)",
   "language": "python",
   "name": "python3"
  },
  "language_info": {
   "codemirror_mode": {
    "name": "ipython",
    "version": 3
   },
   "file_extension": ".py",
   "mimetype": "text/x-python",
   "name": "python",
   "nbconvert_exporter": "python",
   "pygments_lexer": "ipython3",
   "version": "3.10.6"
  }
 },
 "nbformat": 4,
 "nbformat_minor": 5
}
